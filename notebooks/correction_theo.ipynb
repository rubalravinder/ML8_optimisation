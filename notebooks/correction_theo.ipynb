{
 "cells": [
  {
   "cell_type": "markdown",
   "metadata": {},
   "source": [
    "# Constrained optimization : convex methods and other approaches"
   ]
  },
  {
   "cell_type": "markdown",
   "metadata": {},
   "source": [
    "## Resources"
   ]
  },
  {
   "cell_type": "markdown",
   "metadata": {},
   "source": [
    "Machine learning and optimization:\n",
    "https://towardsdatascience.com/a-quick-overview-of-optimization-models-for-machine-learning-and-statistics-38e3a7d13138\n",
    "\n",
    "Convex functions : https://www.youtube.com/watch?v=7QmGj1_i3MU\n",
    "\n",
    "*Hands on Machine Learning ...*, Chapter 4 : Gradient Descent : https://drive.google.com/file/d/1t0rc3x5YQBgLXVLET6BzR4jn5vzMI_m0/view?usp=sharing\n",
    "\n",
    "CVXPY documentation:\n",
    "https://www.cvxpy.org/\n",
    "\n",
    "The knapsack problem : \n",
    "https://en.wikipedia.org/wiki/Knapsack_problem\n",
    "\n",
    "NP-Hardness :\n",
    "https://en.wikipedia.org/wiki/NP-hardness\n",
    "\n",
    "CVXPY advanced functionalities for integer problems :\n",
    "https://www.cvxpy.org/tutorial/advanced/index.html\n",
    "\n",
    "\n",
    "Penalty method : https://en.wikipedia.org/wiki/Penalty_method\n",
    "\n",
    "Keras regularizers documentation:\n",
    "https://keras.io/api/layers/regularizers/\n",
    "\n",
    "Keras constraints documentation:\n",
    "https://keras.io/api/layers/constraints/\n",
    "\n",
    "\n",
    "------------------------------------------------\n",
    "------------------------------------------------\n",
    "\n",
    "**More about Convex Optimization:**\n",
    "\n",
    "Stephen Boyd's MOOC:\n",
    "https://www.edx.org/course/convex-optimization\n",
    "\n",
    "Stephen Boyd's book:\n",
    "https://web.stanford.edu/~boyd/cvxbook/bv_cvxbook.pdf\n",
    "\n",
    "\n"
   ]
  },
  {
   "cell_type": "code",
   "execution_count": null,
   "metadata": {},
   "outputs": [],
   "source": [
    "import numpy as np\n",
    "import pandas as pd\n",
    "import cvxpy as cp"
   ]
  },
  {
   "cell_type": "markdown",
   "metadata": {},
   "source": [
    "# Part 1 : Convex constrained optimization"
   ]
  },
  {
   "cell_type": "markdown",
   "metadata": {},
   "source": [
    "Sometimes when adressing a practical data science problem, you might be asked to produce a model that respect some constraints. For example produce a linear regression, but only with positive coefficients because it doesn't make sense to have negative coefficients for the problem you are adressing. \n",
    "\n",
    "As you know by now, most of machine learning consists in minimizing an error function. Minimizing a function is the definition of an applied mathematics field : *optimization*. Thus most of machine learning actually is optimization, you can read more about this here:\n",
    "\n",
    "https://towardsdatascience.com/a-quick-overview-of-optimization-models-for-machine-learning-and-statistics-38e3a7d13138\n",
    "\n",
    "\n",
    "The general form of an optimization problem (or program) also allows to impose constraints on the function parameters. It writes:\n",
    "\n",
    "<div style=\"font-size: 150%;\" align= \"center\"> \n",
    "\\begin{eqnarray*}\n",
    "    \\mathrm{minimize} &\\;\\;&f_0(x)&\\;&\\\\\n",
    "    \\mathrm{subject\\ to}&\\;\\;&f_i(x) \\leq 0 &\\;& i = 1, \\ldots, m\\\\\n",
    "    &&h_j(x) = 0 &\\;& j = 1, \\ldots, p\n",
    "\\end{eqnarray*}\n",
    "</div>\n",
    "\n",
    "- $x \\in \\mathbb{R}^n$ is the optimization variable, or the parameters\n",
    "- $f_0 : \\mathbb{R}^n \\to \\mathbb{R}$ is the objective or error function\n",
    "- $f_i : \\mathbb{R}^n \\to \\mathbb{R}$ are the inequality constraint functions\n",
    "- $h_i : \\mathbb{R}^n \\to \\mathbb{R}$ are the equality constraint functions\n",
    "\n",
    "The optimal value $p^\\star$ of $f_0$ is reached for the parameters $x$ that satisfies all the constraints and minimize $f_0$ : $p^\\star = \\mathrm{inf}\\{ f_0(x) | f_i(x) \\leq 0, i = 1, \\ldots, m, h_j(x) = 0, j = 1, \\ldots, p$ \\}. Such optimal value of the parameters $x$ is written $x^\\star$.\n",
    "\n",
    "Sometimes when the constraints are incompatible, there are no solutions and the problem is *infeasible*. Conversely sometimes $p^\\star = - \\infty $ and the problem is called *unbounded below*."
   ]
  },
  {
   "cell_type": "markdown",
   "metadata": {},
   "source": [
    "Not all optimization problems are easy to solve, but a subset of them, called *convex optimization problems*, are. A convex optimization problem follows this form :\n",
    "\n",
    "<div style=\"font-size: 150%;\" align= \"center\"> \n",
    "\\begin{eqnarray*}\n",
    "    \\mathrm{minimize} &\\;\\;&f_0(x)&\\;&\\\\\n",
    "    \\mathrm{subject\\ to}&\\;\\;&f_i(x) \\leq 0 &\\;& i = 1, \\ldots, m\\\\\n",
    "    &&a_j^T x = b_j &\\;& j = 1, \\ldots, p\n",
    "\\end{eqnarray*}\n",
    "</div>\n",
    "\n",
    "where $f_0, \\cdots, f_m$ are convex functions, and equality constraints are affine.\n",
    "\n",
    "A function is *convex* if the line segment between any two points on the graph of the function lies above the graph between the two points. Seeing it drawn makes it much clearer : https://www.youtube.com/watch?v=7QmGj1_i3MU\n",
    "\n",
    "Convex optimization problems have the nice property that any locally optimal point is also a globally optimal point $x^\\star$, which makes them relatively easy to solve and guarantees that the solution $x^\\star$ is among the best ones.\n",
    "\n",
    "If you don't remember what are local and global optima, re-read the *Gradient descent* part in chapter 4 of *Hands on Machine Learning... * : https://drive.google.com/file/d/1t0rc3x5YQBgLXVLET6BzR4jn5vzMI_m0/view?usp=sharing"
   ]
  },
  {
   "cell_type": "markdown",
   "metadata": {},
   "source": [
    "Using the CVXPY library, you will learn how to solve such constrained convex problems."
   ]
  },
  {
   "cell_type": "markdown",
   "metadata": {},
   "source": [
    "## Linear problems : The diet problem"
   ]
  },
  {
   "cell_type": "markdown",
   "metadata": {},
   "source": [
    "Let's start with a classic problem called the diet problem. We have:\n",
    "- $n$ different types of food\n",
    "- $m$ different types of nutrients\n",
    "- The food costs $c \\in \\mathbb{R}^n$\n",
    "- The matrix of nutrient content for each type of food $A \\in \\mathbb{R}^{m \\times n}$\n",
    "- The minimum amount of nutrients needed for a human being $b \\in \\mathbb{R}^m$\n",
    "\n",
    "We want to minimize the cost in food spendings such that the corresponding diet satisfies all the nutrient needs. In other words, we want to :\n",
    "\n",
    "<div style=\"font-size: 150%;\" align= \"center\"> \n",
    "\\begin{eqnarray*}\n",
    "    \\mathrm{minimize} &\\;\\;& c^T x\\\\\n",
    "    \\mathrm{subject\\ to}&\\;\\;&Ax \\geq b\\\\\n",
    "    &&x \\geq 0\n",
    "\\end{eqnarray*}\n",
    "</div>\n",
    "\n",
    "The solution $x^\\star \\in \\mathbb{R}^n$ gives us the optimal quantity of each food to buy (and thus cannot be negative)."
   ]
  },
  {
   "cell_type": "markdown",
   "metadata": {},
   "source": [
    "Let's start easy and forget about the nutrients, skim through CVXPY documentation : https://www.cvxpy.org/ ,\n",
    "and solve the following problem:\n",
    "\n",
    "<div style=\"font-size: 150%;\" align= \"center\"> \n",
    "\\begin{eqnarray*}\n",
    "    \\mathrm{minimize} &\\;\\;& c^T x\\\\\n",
    "    &&x \\geq 0\n",
    "\\end{eqnarray*}\n",
    "</div>"
   ]
  },
  {
   "cell_type": "code",
   "execution_count": null,
   "metadata": {},
   "outputs": [],
   "source": [
    "foods = [\"Roasted Chicken\", \"Spaghetti\", \"Tomato,Red,Ripe,Raw\", \"Apple,Raw,W/Skin\", \n",
    "         \"Grapes\", \"Chocolate Chip Cookies\", \"Lowfat Milk\", \"Hotdog\"]\n",
    "\n",
    "food_costs = pd.Series([0.84, 0.78, 0.27, 0.24, 0.32, 0.03, 0.23, 0.31], index = foods)\n"
   ]
  },
  {
   "cell_type": "code",
   "execution_count": null,
   "metadata": {},
   "outputs": [],
   "source": [
    "#TOFILL\n",
    "n = len(foods)\n",
    "\n",
    "c = food_costs.to_numpy()\n",
    "\n",
    "# Define and solve the CVXPY problem.\n",
    "x = cp.Variable(n)\n",
    "\n",
    "objective = cp.Minimize(c.T@x)\n",
    "constraints = [ x >= 0 ]\n",
    "\n",
    "prob = cp.Problem(objective, constraints)\n",
    "prob.solve()\n",
    "\n",
    "# Print result.\n",
    "print(\"\\nThe optimal value is :\", prob.value)\n",
    "print(\"A solution x is :\")\n",
    "print( pd.Series(x.value, index = foods))"
   ]
  },
  {
   "cell_type": "markdown",
   "metadata": {},
   "source": [
    "No surprises, without nutrient constraints, the optimal solution to minimize the cost is to stop eating ! Now add the $Ax \\geq b$ constraint with the following data :"
   ]
  },
  {
   "cell_type": "code",
   "execution_count": null,
   "metadata": {},
   "outputs": [],
   "source": [
    "nutrients = [\"Calories\", \"Calcium\", \"Iron\", \"Vit_A\", \"Dietary_Fiber\", \"Carbohydrates\", \"Protein\"]\n",
    "\n",
    "food_nutrients = pd.DataFrame([\n",
    "    (277.4, 21.9, 1.8, 77.4, 0, 0, 42.2),\n",
    "    (358.2, 80.2, 2.3, 1355.2, 11.6, 58.3, 8.2),\n",
    "    (25.8, 6.2, 0.6, 766.3, 1.4, 5.7, 1),\n",
    "    (81.4, 9.7, 0.2, 73.1, 3.7, 21, 0.3),\n",
    "    (15.1, 3.4, 0.1, 24, 0.2, 4.1, 0.2),\n",
    "    (78.1, 6.2, 0.4, 0, 0, 24, 0.9),\n",
    "    (121.2, 296.7, 0.1, 500.2, 0, 11.7, 8.1),\n",
    "    (242.1, 23.5, 2.3, 0, 0, 18, 10.4) ],\n",
    "    columns = nutrients,\n",
    "    index = foods).T\n",
    "\n",
    "nutrients_min = pd.Series([2000, 800, 10, 10000, 25, 0, 50], index = nutrients)"
   ]
  },
  {
   "cell_type": "code",
   "execution_count": null,
   "metadata": {},
   "outputs": [],
   "source": [
    "#TOFILL\n",
    "n = len(foods)\n",
    "m = len(nutrients)\n",
    "\n",
    "c = food_costs.to_numpy()\n",
    "A = food_nutrients.to_numpy()\n",
    "b = nutrients_min.to_numpy()\n",
    "\n",
    "# Define and solve the CVXPY problem.\n",
    "x = cp.Variable(n)\n",
    "\n",
    "objective = cp.Minimize(c.T@x)\n",
    "constraints = [ x >= 0 , A@x >= b]\n",
    "\n",
    "prob = cp.Problem(objective, constraints)\n",
    "prob.solve()\n",
    "\n",
    "# Print result and corresponding number of each nutrient\n",
    "print(\"\\nThe optimal value is :\", prob.value)\n",
    "print(\"A solution x is :\")\n",
    "print( pd.Series(x.value, index = foods))\n",
    "\n",
    "print(\"The corresponding nutrients quantities are :\")\n",
    "print( pd.Series(A.dot(x.value), index = nutrients))"
   ]
  },
  {
   "cell_type": "markdown",
   "metadata": {},
   "source": [
    "This doesn't look like a very equilibrated diet, especially regarding carbohydrates, let's add some maximum constraints on nutrients : $Ax \\leq d$, where  $d \\in \\mathbb{R}^m$ is the maximum amount of nutrients :"
   ]
  },
  {
   "cell_type": "code",
   "execution_count": null,
   "metadata": {},
   "outputs": [],
   "source": [
    "nutrients_max = pd.Series([3000, 1600, 30, 50000, 100, 250, 100], index = nutrients)"
   ]
  },
  {
   "cell_type": "code",
   "execution_count": null,
   "metadata": {},
   "outputs": [],
   "source": [
    "#TOFILL\n",
    "n = len(foods)\n",
    "m = len(nutrients)\n",
    "\n",
    "c = food_costs.to_numpy()\n",
    "A = food_nutrients.to_numpy()\n",
    "b = nutrients_min.to_numpy()\n",
    "d = nutrients_max.to_numpy()\n",
    "\n",
    "# Define and solve the CVXPY problem.\n",
    "x = cp.Variable(n)\n",
    "\n",
    "objective = cp.Minimize(c.T@x)\n",
    "constraints = [ x >= 0 , A@x >= b, A@x <= d]\n",
    "\n",
    "prob = cp.Problem(objective, constraints)\n",
    "prob.solve()\n",
    "\n",
    "# Print result and corresponding number of each nutrient\n",
    "print(\"\\nThe optimal value is :\", prob.value)\n",
    "print(\"A solution x is :\")\n",
    "print( pd.Series(x.value, index = foods))\n",
    "\n",
    "print(\"The corresponding nutrients quantities are :\")\n",
    "print( pd.Series(A.dot(x.value), index = nutrients))"
   ]
  },
  {
   "cell_type": "markdown",
   "metadata": {},
   "source": [
    "So one can basically live on spaghetti, tomatoes, cookies, milk and hotdogs. Good to know."
   ]
  },
  {
   "cell_type": "markdown",
   "metadata": {},
   "source": [
    "## Quadratic problems : Constrained linear regression"
   ]
  },
  {
   "cell_type": "markdown",
   "metadata": {},
   "source": [
    "Now let's switch to a classic machine learning model : linear regression, but with constraints on the regression coefficients.\n",
    "\n",
    "In the following example, we have $n$ chemical elements, $m$ minerals, a matrix $A \\in \\mathbb{R}^{n \\times m}$ that gives the chemical composition of each mineral, and the chemical composition of a geological sample $b \\in \\mathbb{R}^m$. \n",
    "\n",
    "From this we want to approximate the mineral composition of the geological sample $x \\in \\mathbb{R}^m$ with a linear regression. Thus $x$ must contain only non-negative values, and must sum to 1.\n",
    "\n",
    "Write the corresponding convex problem on paper, and then with CVXPY using the following data:"
   ]
  },
  {
   "cell_type": "code",
   "execution_count": null,
   "metadata": {},
   "outputs": [],
   "source": [
    "# 10 Chemical element x 13 mineral type matrix, containing the proportion of each element in each mineral type\n",
    "\n",
    "mineral_chemical_compositions = np.array([[63.1545, 64.3049, 100., 37.1417, 32.4026, 30.0382, 30.7033, 0., 36.5444, 0., 0., 0., 0.0034],\n",
    "   [0.0016, 0.01, 0., 0.6641, 2.35946, 26.91, 0., 0., 0.297125, 0., 0., 0., 51.3026], \n",
    "   [17.8683, 21.096, 0., 11.2387, 14.3019, 6.46115, 0.34805, 0., 14.368, 0., 0., 0., 0.], \n",
    "   [0.0223, 0.1191, 0., 30.6859, 32.0779, 1.5471, 1.5014, 0., 11.5299, 0., 0., 0., 43.3621], \n",
    "   [0., 0., 0., 0.94408, 0.6131, 0.0986, 0., 0., 0., 0., 0., 0., 2.1039], \n",
    "   [0., 0., 0., 1.14598, 1.82486, 0.03695, 0.00935, 0., 0.2312, 0., 0., 0., 0.0166], \n",
    "   [0.625667, 9.77073, 0., 1.35584, 0.0558, 0.05635, 0., 0., 0.079275, 0., 0., 0., 0.018], \n",
    "   [0., 2.80603, 0., 10.7388, 0.0245429, 27.7454, 2.19443, 55.08, 10.5478, 56.03, 78.13, 10.44, 0.0262], \n",
    "   [15.7365, 0.0874667, 0., 1.89652, 8.54851, 0.00475, 0., 0., 0.09665, 0., 0., 0., 0.0115], \n",
    "   [0., 0., 0., 0.16636, 0., 0., 0.0293, 42.4, 0.0114, 0., 0., 0., 0.0617]])\n",
    "\n",
    "# Proportion of each of the 10 elements analyzed in the geological sample\n",
    "\n",
    "sample_chemical_composition = np.array([ 65.67, 0.52, 14.77, 5.418, 0.13, 0.3, 3.22, 2.05, 6.07, 0.13 ])"
   ]
  },
  {
   "cell_type": "code",
   "execution_count": null,
   "metadata": {},
   "outputs": [],
   "source": [
    "#TOFILL\n",
    "A = mineral_chemical_compositions\n",
    "b = sample_chemical_composition\n",
    "\n",
    "n = A.shape[1]\n",
    "m = A.shape[0]\n",
    "\n",
    "x = cp.Variable(n)\n",
    "objective = cp.Minimize(cp.sum_squares(A@x - b))\n",
    "constraints = [0 <= x, cp.sum(x) == 1]\n",
    "prob = cp.Problem(objective, constraints)\n",
    "\n",
    "# The optimal objective value is returned by `prob.solve()`.\n",
    "result = prob.solve()\n",
    "\n",
    "# The optimal value for x is stored in `x.value`.\n",
    "\n",
    "print(\"\\nThe optimal value is :\", prob.value)\n",
    "print(\"A solution x is :\")\n",
    "print(x.value)\n",
    "cvx_cstr_reg_x_opt = x.value.copy()"
   ]
  },
  {
   "cell_type": "markdown",
   "metadata": {},
   "source": [
    "## Integer problems : the knapsack problem"
   ]
  },
  {
   "cell_type": "markdown",
   "metadata": {},
   "source": [
    "The knapsack problem is a classic combinatorial optimization problem, where one must maximize the total value of the objects put in the knapsack, without exceeding the knapsack capacity.\n",
    "\n",
    "Read more about the knapsack problem : https://en.wikipedia.org/wiki/Knapsack_problem\n",
    "\n",
    "The knapsack problem is called an integer problem as some variable values are constrained to integer values. Here we are going to address the 0-1 knapsack, where we can put only once each object in the knapsack. Problems where variable values are constrained to be 0 or 1 are a subtype of integer problems called boolean problems.\n",
    "\n",
    "All integer problems are non-convex problems, and we do not know any algorithms to solve them in polynomial time (as they are NP-Hard problems https://en.wikipedia.org/wiki/NP-hardness ).\n",
    "\n",
    "However CVXPY integrates Mixed-Integer solvers that yields good approximations of such problems in a reasonable time.\n",
    "\n",
    "Use these functionalities of cvxpy to solve the following 0-1 knapsack problem :\n",
    "https://www.cvxpy.org/tutorial/advanced/index.html"
   ]
  },
  {
   "cell_type": "code",
   "execution_count": null,
   "metadata": {},
   "outputs": [],
   "source": [
    "object_values = np.array([10, 8, 1, 5.5, 3, 12, 2])\n",
    "object_weights = np.array([5, 3, 0.1, 5, 4, 18, 5])\n",
    "\n",
    "knapsack_max_weight = 15"
   ]
  },
  {
   "cell_type": "code",
   "execution_count": null,
   "metadata": {},
   "outputs": [],
   "source": [
    "#TOFILL\n",
    "n = len(object_values)\n",
    "\n",
    "w = object_weights\n",
    "v = object_values\n",
    "\n",
    "# Define and solve the CVXPY problem.\n",
    "x = cp.Variable(n, boolean =  True)\n",
    "\n",
    "objective = cp.Maximize(v.T@x)\n",
    "constraints = [ w.T@x <= knapsack_max_weight]\n",
    "\n",
    "prob = cp.Problem(objective, constraints)\n",
    "prob.solve()\n",
    "\n",
    "# Print result and corresponding number of each nutrient\n",
    "print(\"\\nThe optimal value is :\", prob.value)\n",
    "print(\"A solution x is :\")\n",
    "print(x.value)\n"
   ]
  },
  {
   "cell_type": "code",
   "execution_count": null,
   "metadata": {},
   "outputs": [],
   "source": []
  },
  {
   "cell_type": "markdown",
   "metadata": {},
   "source": [
    "However, even these solvers become too slow when the problem becomes too big. When a non-convex problem is untractable, a classical technique is to relax its constraints in order to build an approximation of the problem that is convex. This is called a *convex relaxation*.\n",
    "\n",
    "Propose a convex relaxation of the knapsack problem for the following data, and solve it with cvxpy:"
   ]
  },
  {
   "cell_type": "code",
   "execution_count": null,
   "metadata": {},
   "outputs": [],
   "source": [
    "#Creating n random object values and weights between 0 and 10\n",
    "n = 1000000\n",
    "scale = 10\n",
    "\n",
    "object_values = np.array([np.random.random() * scale for i in range(n) ])\n",
    "object_weights = np.array([np.random.random() * scale for i in range(n) ])\n",
    "\n",
    "knapsack_max_weight = (n * scale) / 20"
   ]
  },
  {
   "cell_type": "code",
   "execution_count": null,
   "metadata": {},
   "outputs": [],
   "source": [
    "#TOFILL\n",
    "w = object_weights\n",
    "v = object_values\n",
    "\n",
    "# Define and solve the CVXPY problem.\n",
    "x = cp.Variable(n)\n",
    "\n",
    "objective = cp.Maximize(v.T@x)\n",
    "constraints = [ w.T@x <= knapsack_max_weight, x >= 0, x <= 1]\n",
    "\n",
    "prob = cp.Problem(objective, constraints)\n",
    "prob.solve()\n",
    "\n",
    "# Print result and corresponding number of each nutrient\n",
    "print(\"\\nThe optimal value is :\", prob.value)\n",
    "print(\"A solution x is :\")\n",
    "print(x.value[:50])\n"
   ]
  },
  {
   "cell_type": "markdown",
   "metadata": {},
   "source": [
    "As you can see, this yields a useful result, even if the original constraints are not exactly satisfied.\n",
    "\n",
    "However depending on the problem constraint values, sometimes such approximations doesn't give a very useful result."
   ]
  },
  {
   "cell_type": "markdown",
   "metadata": {},
   "source": [
    "# [Optional] Re-assigning electricity production units to each production plant"
   ]
  },
  {
   "cell_type": "markdown",
   "metadata": {},
   "source": [
    "In this problem you have $k$ electricity production plants, in which there are a total of $n_o$ production units, and for each of them you have its production history as a time series of length *m*. Unfortunately, you don't know which unit belongs to which plant, and some units production history are missing (you only have $n$ units history available), but you know the total production history of each plant. Given these informations, re-assign each unit to its production plant. When you're done try to change the number of plants and the missing ratio to see how far your solution correctly works."
   ]
  },
  {
   "cell_type": "code",
   "execution_count": null,
   "metadata": {},
   "outputs": [],
   "source": [
    "#Problem generation :\n",
    "\n",
    "# Number of electricity production units\n",
    "n_o = 100 \n",
    "# Number of time steps\n",
    "m = 5000\n",
    "# Number of electricity production plants\n",
    "k = 2\n",
    "# Ratio of missing production units data\n",
    "missing_ratio = 0.1\n",
    "\n",
    "#Production history for each production unit \n",
    "unit_productions = np.random.random((n_o,m)) * 10\n",
    "\n",
    "#Ground truth affectation of each production unit to a production plant\n",
    "affectations = np.random.choice(k, n_o)\n",
    "\n",
    "# Number of available production units data\n",
    "n = int(n_o*(1-missing_ratio)) \n",
    "\n",
    "#Available production units \n",
    "available_units_indexes = np.random.choice(n_o, n, replace=False)\n",
    "available_units_affectation = affectations[available_units_indexes]"
   ]
  },
  {
   "cell_type": "code",
   "execution_count": null,
   "metadata": {},
   "outputs": [],
   "source": [
    "#Available data :\n",
    "\n",
    "#Total production of each plant\n",
    "total_productions = np.vstack( \n",
    "    [ unit_productions[affectations == i].sum(axis=0) for i in range(k) ])\n",
    "\n",
    "#Available production units data\n",
    "unit_productions_available = unit_productions[available_units_indexes]\n",
    "\n",
    "#Goal try to find back in which plant is each production unit only from available data,\n",
    "#i.e. try to find back the `available_units_affectation` array "
   ]
  },
  {
   "cell_type": "code",
   "execution_count": null,
   "metadata": {
    "scrolled": true
   },
   "outputs": [],
   "source": [
    "#TOFILL\n",
    "x = cp.Variable((k,n))\n",
    "\n",
    "w = unit_productions_available\n",
    "c = total_productions\n",
    "\n",
    "objective = cp.Minimize(cp.sum(( x@w - c)))\n",
    "constraints = [ x@w <= c, x >= 0, x <= 1, cp.sum(x, axis=0) == 1]\n",
    "\n",
    "prob = cp.Problem(objective, constraints)\n",
    "prob.solve()\n",
    "\n",
    "# Print result\n",
    "print(\"\\nThe optimal value is :\", prob.value)\n",
    "print(\"A solution x is :\")\n",
    "print(x.value[:50])\n"
   ]
  },
  {
   "cell_type": "code",
   "execution_count": null,
   "metadata": {},
   "outputs": [],
   "source": [
    "import matplotlib.pyplot as plt\n",
    "plt.imshow(x.value)"
   ]
  },
  {
   "cell_type": "code",
   "execution_count": null,
   "metadata": {},
   "outputs": [],
   "source": [
    "plt.imshow(available_units_affectation.reshape((1,available_units_affectation.size)))\n"
   ]
  },
  {
   "cell_type": "markdown",
   "metadata": {},
   "source": [
    "What is the link between this problem and the knapsack problem ?"
   ]
  },
  {
   "cell_type": "markdown",
   "metadata": {},
   "source": [
    "# Part 2 : Other constrained optimization methods"
   ]
  },
  {
   "cell_type": "markdown",
   "metadata": {},
   "source": [
    "Sometimes when a constrained problem is not convex, or when it is to big to be solved with a convex solver, it can be useful to turn to other techniques to approximately enforce these constraints, such as using penalty functions, or projected gradient descent."
   ]
  },
  {
   "cell_type": "markdown",
   "metadata": {},
   "source": [
    "## Constrained linear regression (again)"
   ]
  },
  {
   "cell_type": "markdown",
   "metadata": {},
   "source": [
    "In the following and to keep a continuity in the course, we will continue with our constrained linear regression problem to approximate the mineral composition of a geological sample, even if in this case, using a convex solver should be preferred as it is a convex problem !"
   ]
  },
  {
   "cell_type": "markdown",
   "metadata": {},
   "source": [
    "### Replacing constraints with penalties"
   ]
  },
  {
   "cell_type": "markdown",
   "metadata": {},
   "source": [
    "The first method consists in adding penalties to the error function $f_0$ that correspond to the constraints.\n",
    "\n",
    "Read https://en.wikipedia.org/wiki/Penalty_method\n",
    " \n",
    "In our case we will use linear penalties to replace :\n",
    "- inequality constraints $f_i(x) \\leq 0 $ by adding in the objective function : $ + \\lambda\\;\\max(0,f_i(x))$\n",
    "- equality constraints $h_j(x) = 0 $ by adding in the objective function : $ + \\lambda |h_j(x)| $\n",
    "\n",
    "where $\\lambda \\in \\mathbb{R}$ is a new hyperparameter of the model, and controls the importance of the constraints relatively to the original objective function $f_0$.\n",
    "\n",
    "Hence when replacing constraints with linear penalties the problem becomes :\n",
    "\n",
    "\n",
    "<div style=\"font-size: 150%;\" align= \"center\"> \n",
    "$\\mathrm{minimize} \\;\\; f_0(x) + \\lambda(\\max(0,f_i(x)) + |h_j(x)|)$\n",
    "</div>\n"
   ]
  },
  {
   "cell_type": "markdown",
   "metadata": {},
   "source": [
    "First write on paper the corresponding optimization problem when replacing constraints with such penalties for the constrained linear regression problem of the geological sample composition seen before."
   ]
  },
  {
   "cell_type": "code",
   "execution_count": null,
   "metadata": {},
   "outputs": [],
   "source": []
  },
  {
   "cell_type": "markdown",
   "metadata": {},
   "source": [
    "To implement this penalized version of the constrained linear regression problem, we will use Keras. Implement first a classic linear regression with Keras without any penalty (and don't forget to not fit the intercept, as we don't want it in our geological example !) :"
   ]
  },
  {
   "cell_type": "code",
   "execution_count": null,
   "metadata": {},
   "outputs": [],
   "source": [
    "from keras.models import Sequential\n",
    "from keras.layers import *\n",
    "from keras.optimizers import *"
   ]
  },
  {
   "cell_type": "code",
   "execution_count": null,
   "metadata": {
    "scrolled": true
   },
   "outputs": [],
   "source": [
    "A = mineral_chemical_compositions\n",
    "b = sample_chemical_composition"
   ]
  },
  {
   "cell_type": "code",
   "execution_count": null,
   "metadata": {},
   "outputs": [],
   "source": [
    "def linear_regression_model(input_dim):\n",
    "    \"\"\"\n",
    "    Input : \n",
    "    input_dim : int : Number of features of the linear regression\n",
    "    \n",
    "    Output : \n",
    "    model : tf.keras.Model : the keras Model object\n",
    "    regression_layer : tf.keras.layers.Layer : the keras Layer object \n",
    "                        that contains the linear regression coefficients\n",
    "                        \n",
    "    \"\"\"\n",
    "    #TOFILL\n",
    "    model = Sequential()\n",
    "    regression_layer = Dense(1, activation = 'linear', input_dim = input_dim, use_bias = False)\n",
    "    model.add(regression_layer)\n",
    "    model.compile(optimizer = 'rmsprop', loss = 'mean_squared_error', metrics = ['mse'])\n",
    "    \n",
    "    #TOKEEP\n",
    "    return model, regression_layer"
   ]
  },
  {
   "cell_type": "code",
   "execution_count": null,
   "metadata": {},
   "outputs": [],
   "source": [
    "max_epochs = 2000\n",
    "batch_size = 10\n",
    "\n",
    "model, regression_layer = linear_regression_model(A.shape[1])\n",
    "model.fit(A,b, epochs=max_epochs, batch_size=batch_size)"
   ]
  },
  {
   "cell_type": "code",
   "execution_count": null,
   "metadata": {},
   "outputs": [],
   "source": [
    "regression_layer.get_weights()"
   ]
  },
  {
   "cell_type": "markdown",
   "metadata": {},
   "source": [
    "As we can see, our desired constraints (the coefficients $x \\in \\mathbb{R}^n$ must be only non-negative values, and must sum to 1) are not naturally respected.\n",
    "\n",
    "Let's first add the value constraints : $ x \\geq 0$ and $x \\leq 1$, by adding the corresponding penalties : $\\lambda\\;\\sum_i\\max(0, -x_i + 0)$ and $\\lambda\\;\\sum_i\\max(0,x_i - 1 )$.\n",
    "\n",
    "To do so we will use a custom layer weight regularizer.\n",
    "Learn about layer regularizers : https://keras.io/api/layers/regularizers/\n",
    "\n",
    "\n",
    "Let's code a regularizer that add penalties for any minimum and maximum values and not just 0 and 1.\n",
    "Complete the following code to add the corresponding penalties to the layer weights :"
   ]
  },
  {
   "cell_type": "code",
   "execution_count": null,
   "metadata": {},
   "outputs": [],
   "source": [
    "from tensorflow.keras import regularizers\n",
    "import tensorflow as tf\n",
    "\n",
    "\n",
    "class LinearBoxPenalties(regularizers.Regularizer):\n",
    "\n",
    "    def __init__(self, lambda_, min_value, max_value):\n",
    "        self.lambda_ = lambda_\n",
    "        self.min_value = min_value\n",
    "        self.max_value = max_value\n",
    "        \n",
    "    def get_config(self):\n",
    "        return {'lambda': self.lambda_, 'min_value' : self.min_value, 'max_value' : self.max_value}\n",
    "\n",
    "    def __call__(self, x):\n",
    "        #TOFILL:\n",
    "        return self.lambda_ * (tf.reduce_sum(tf.nn.relu(x - self.max_value)) \n",
    "                               + tf.reduce_sum(tf.nn.relu(-x + self.min_value))) \n",
    "\n",
    "    \n",
    "    \n"
   ]
  },
  {
   "cell_type": "markdown",
   "metadata": {},
   "source": [
    "And rewrite your linear regression so that it takes into account your penalty :"
   ]
  },
  {
   "cell_type": "code",
   "execution_count": null,
   "metadata": {},
   "outputs": [],
   "source": [
    "def linear_regression_model_with_penalty_cstrs(input_dim, regularizer):\n",
    "    \"\"\"\n",
    "    Input : \n",
    "    input_dim : int : Number of features of the linear regression\n",
    "    regularizer : tf.keras.regularizers.Regularizer : The regularizer object to add to linear regression coefficients\n",
    "    \n",
    "    Output : \n",
    "    model : tf.keras.Model : the keras Model object\n",
    "    regression_layer : tf.keras.layers.Layer : the keras Layer object \n",
    "                        that contains the linear regression coefficients\n",
    "                        \n",
    "    \"\"\"\n",
    "    #TOFILL\n",
    "    model = Sequential()\n",
    "    regression_layer = Dense(1, activation = 'linear', input_dim = input_dim,\n",
    "                            use_bias = False, kernel_regularizer = regularizer)\n",
    "    model.add(regression_layer)\n",
    "    model.compile(optimizer = 'rmsprop', loss = 'mean_squared_error', metrics = ['mse'])\n",
    "    \n",
    "    #TOKEEP\n",
    "    return model, regression_layer"
   ]
  },
  {
   "cell_type": "markdown",
   "metadata": {},
   "source": [
    "Now retrain your linear regression with your penalty and compare the obtained coefficients with ones you obtained with cvxpy :"
   ]
  },
  {
   "cell_type": "code",
   "execution_count": null,
   "metadata": {},
   "outputs": [],
   "source": [
    "penalty_regularizer = LinearBoxPenalties(lambda_ = 10, min_value = 0, max_value = 1)\n",
    "\n",
    "model, regression_layer = linear_regression_model_with_penalty_cstrs(A.shape[1], penalty_regularizer)\n",
    "\n",
    "model.fit(A,b, epochs = max_epochs, batch_size = batch_size)"
   ]
  },
  {
   "cell_type": "code",
   "execution_count": null,
   "metadata": {},
   "outputs": [],
   "source": [
    "#TOFILL\n",
    "regression_layer.get_weights()[0].flatten()"
   ]
  },
  {
   "cell_type": "code",
   "execution_count": null,
   "metadata": {},
   "outputs": [],
   "source": [
    "regression_layer.get_weights()[0].sum()"
   ]
  },
  {
   "cell_type": "code",
   "execution_count": null,
   "metadata": {},
   "outputs": [],
   "source": [
    "cvx_cstr_reg_x_opt"
   ]
  },
  {
   "cell_type": "markdown",
   "metadata": {},
   "source": [
    "We can see that the min and max constraints are well satisfied, however the coefficient still doesn't sum to one. \n",
    "\n",
    "Complete the following code to add both a min and max values penalties, as well as the sum penalty $ \\lambda |\\sum_i(x_i) - 1|$ :"
   ]
  },
  {
   "cell_type": "code",
   "execution_count": null,
   "metadata": {},
   "outputs": [],
   "source": [
    "from tensorflow.keras import regularizers\n",
    "import tensorflow as tf\n",
    "\n",
    "\n",
    "class LinearBoxAndSumPenalties(regularizers.Regularizer):\n",
    "\n",
    "    def __init__(self, lambda_, min_value, max_value, sum_value):\n",
    "        self.lambda_ = lambda_\n",
    "        self.min_value = min_value\n",
    "        self.max_value = max_value\n",
    "        self.sum_value = sum_value\n",
    "        \n",
    "    def get_config(self):\n",
    "        return {'lambda': self.lambda_, 'min_value' : self.min_value, \n",
    "                'max_value' : self.max_value, 'sum_value' : self.sum_value }\n",
    "    \n",
    "\n",
    "    def __call__(self, x):\n",
    "        #TOFILL\n",
    "        minmax_penalty = tf.reduce_sum(tf.nn.relu(x - self.max_value)) + tf.reduce_sum(tf.nn.relu(-x + self.min_value))\n",
    "        sum_penalty = tf.abs(tf.reduce_sum(x) - self.sum_value)\n",
    "        \n",
    "        return self.lambda_ * (minmax_penalty + sum_penalty)\n",
    "        \n",
    "\n",
    "    \n"
   ]
  },
  {
   "cell_type": "code",
   "execution_count": null,
   "metadata": {},
   "outputs": [],
   "source": [
    "penalty_regularizer = LinearBoxAndSumPenalties(lambda_ = 10, min_value = 0, max_value = 1, sum_value = 1)\n",
    "\n",
    "model, regression_layer = linear_regression_model_with_penalty_cstrs(A.shape[1], penalty_regularizer)\n",
    "\n",
    "model.fit(A,b, epochs=max_epochs, batch_size=batch_size)"
   ]
  },
  {
   "cell_type": "code",
   "execution_count": null,
   "metadata": {},
   "outputs": [],
   "source": [
    "#TOFILL\n",
    "regression_layer.get_weights()[0].flatten()"
   ]
  },
  {
   "cell_type": "code",
   "execution_count": null,
   "metadata": {},
   "outputs": [],
   "source": [
    "regression_layer.get_weights()[0].sum()"
   ]
  },
  {
   "cell_type": "code",
   "execution_count": null,
   "metadata": {},
   "outputs": [],
   "source": [
    "cvx_cstr_reg_x_opt"
   ]
  },
  {
   "cell_type": "code",
   "execution_count": null,
   "metadata": {},
   "outputs": [],
   "source": []
  },
  {
   "cell_type": "markdown",
   "metadata": {},
   "source": [
    "Play with lambda and see how it changes the obtained $x$ values compared to the result of the convex approach."
   ]
  },
  {
   "cell_type": "markdown",
   "metadata": {},
   "source": [
    "### Enforcing constraints with projected gradient descent"
   ]
  },
  {
   "cell_type": "markdown",
   "metadata": {},
   "source": [
    "The other main method to use constraints with problems that cannot be solved by convex solvers is called *projected gradient descent*. The idea is pretty simple, we only $\\mathrm{minimize}\\;f_0(x)$ with gradient descent, and after each gradient update, we have a look at the parameters, if they do not respect the constraints, then we modify them so that they respect the constraints. In other words we project the parameters values on the surface of the parameter-values set that respect the constraints.\n",
    "\n",
    "In our case that means that if any coefficient in $x$ is below 0, we replace it by zero ; if any coefficient in $x$ is above 1, we replace it by one ; and if $x$ doesn't sum to 1, we rescale all the coefficients in $x$ so that they do.\n",
    "\n",
    "Again we can do this in Keras, with the layer weights constraints : https://keras.io/api/layers/constraints/\n",
    "\n",
    "Let's code a constraint that replaces the layer wieghts below a minimum value by this value, and above a maximum value by this other value.\n",
    "\n",
    "Complete the following code to add these projection steps to your layer weights :"
   ]
  },
  {
   "cell_type": "code",
   "execution_count": null,
   "metadata": {},
   "outputs": [],
   "source": [
    "from keras.constraints import Constraint\n",
    "import keras.backend as K\n",
    "\n",
    "class ProjectedBoxConstraint(Constraint):\n",
    "    def __init__(self, min_value, max_value):\n",
    "        self.min_value = min_value\n",
    "        self.max_value = max_value\n",
    "        \n",
    "    def get_config(self):\n",
    "        return {'min_value': self.min_value,\n",
    "                'max_value': self.max_value}\n",
    "    \n",
    "    def __call__(self, w):\n",
    "        #TOFILL\n",
    "        clipped_w = K.clip(w, self.min_value, self.max_value) \n",
    "        return clipped_w \n",
    "    "
   ]
  },
  {
   "cell_type": "code",
   "execution_count": null,
   "metadata": {},
   "outputs": [],
   "source": [
    "def linear_regression_model_with_projected_cstrs(input_dim, cstr):\n",
    "    \"\"\"\n",
    "    Input : \n",
    "    input_dim : int : Number of features of the linear regression\n",
    "    cstr : tf.keras.constraints.Constraint : the keras Constraint object \n",
    "                        that contains the projection operations to satisfy the constraints\n",
    "    \n",
    "    Output : \n",
    "    model : tf.keras.Model : the keras Model object\n",
    "    regression_layer : tf.keras.layers.Layer : the keras Layer object \n",
    "                        that contains the linear regression coefficients\n",
    "                        \n",
    "    \"\"\"\n",
    "    #TOFILL\n",
    "    model = Sequential()\n",
    "    regression_layer = Dense(1, activation = 'linear', input_dim = input_dim,\n",
    "                            use_bias = False, kernel_constraint = cstr)\n",
    "    model.add(regression_layer)\n",
    "    model.compile(optimizer = \"rmsprop\", loss = 'mean_squared_error', metrics = ['mse'])\n",
    "    \n",
    "    #TOKEEP\n",
    "    return model, regression_layer"
   ]
  },
  {
   "cell_type": "code",
   "execution_count": null,
   "metadata": {},
   "outputs": [],
   "source": [
    "projected_constraint = ProjectedBoxConstraint(min_value = 0, max_value = 1)\n",
    "\n",
    "model, regression_layer = linear_regression_model_with_projected_cstrs(A.shape[1], projected_constraint)\n",
    "\n",
    "model.fit(A,b, epochs=max_epochs, batch_size=batch_size)"
   ]
  },
  {
   "cell_type": "code",
   "execution_count": null,
   "metadata": {},
   "outputs": [],
   "source": [
    "#TOFILL\n",
    "regression_layer.get_weights()[0].flatten()"
   ]
  },
  {
   "cell_type": "code",
   "execution_count": null,
   "metadata": {},
   "outputs": [],
   "source": [
    "regression_layer.get_weights()[0].sum()"
   ]
  },
  {
   "cell_type": "code",
   "execution_count": null,
   "metadata": {},
   "outputs": [],
   "source": [
    "cvx_cstr_reg_x_opt"
   ]
  },
  {
   "cell_type": "markdown",
   "metadata": {},
   "source": [
    "As expected the min and max constraints are well satisfied and the coefficient doesn't sum to one. \n",
    "\n",
    "Complete the following code to respect the min and max constraints, and rescale the coefficents of the layer so that they sum to one :"
   ]
  },
  {
   "cell_type": "code",
   "execution_count": null,
   "metadata": {},
   "outputs": [],
   "source": [
    "from keras.constraints import Constraint\n",
    "import keras.backend as K\n",
    "\n",
    "class ProjectedBoxAndSumConstraint(Constraint):\n",
    "    def __init__(self, min_value, max_value, sum_value):\n",
    "        self.min_value = min_value\n",
    "        self.max_value = max_value\n",
    "        self.sum_value = sum_value\n",
    "\n",
    "    def get_config(self):\n",
    "        return {'min_value': self.min_value,\n",
    "                'max_value': self.max_value}\n",
    "    \n",
    "    #TOFILL\n",
    "    def __call__(self, w):\n",
    "        clipped_w = K.clip(w, self.min_value, self.max_value)\n",
    "        sum_ = tf.reduce_sum(clipped_w)\n",
    "        return clipped_w / (K.epsilon() + sum_)\n"
   ]
  },
  {
   "cell_type": "code",
   "execution_count": null,
   "metadata": {},
   "outputs": [],
   "source": [
    "projected_constraint = ProjectedBoxAndSumConstraint(min_value = 0, max_value = 1, sum_value = 1)\n",
    "\n",
    "model, regression_layer = linear_regression_model_with_projected_cstrs(A.shape[1], projected_constraint)\n",
    "\n",
    "model.fit(A,b, epochs=max_epochs, batch_size=batch_size)"
   ]
  },
  {
   "cell_type": "code",
   "execution_count": null,
   "metadata": {},
   "outputs": [],
   "source": [
    "#TOFILL\n",
    "regression_layer.get_weights()[0].flatten()"
   ]
  },
  {
   "cell_type": "code",
   "execution_count": null,
   "metadata": {},
   "outputs": [],
   "source": [
    "regression_layer.get_weights()[0].sum()"
   ]
  },
  {
   "cell_type": "code",
   "execution_count": null,
   "metadata": {},
   "outputs": [],
   "source": [
    "cvx_cstr_reg_x_opt"
   ]
  },
  {
   "cell_type": "markdown",
   "metadata": {},
   "source": [
    "The training get stuck with a pretty high mean squared error, this can happen as projected gradient algorithms are generally not guaranteed to converge to the optimal solution, even for convex problems, and can have issues with equality constraints as it is the case here. Sometimes penalty functions work better, sometimes projected gradient, both methods are useful to know about.\n",
    "\n",
    "Again when a problem is convex as here, prefer a convex solver. If you are not sure about the convexity of your problem, try with cvxpy first, if it is not convex it will tell you, and then turn to other methods."
   ]
  },
  {
   "cell_type": "markdown",
   "metadata": {},
   "source": [
    "## [Optional] Encoding constraints in the network architecture"
   ]
  },
  {
   "cell_type": "markdown",
   "metadata": {},
   "source": [
    "(Yet) another way to enforce the constraints is to find a transformation of your parameters that naturally enforces your constraints. In our case the softmax function exactly do what we want : it transforms our real parameters into parameters in $[0,1]$ that sum to 1 :"
   ]
  },
  {
   "cell_type": "markdown",
   "metadata": {},
   "source": [
    "https://en.wikipedia.org/wiki/Softmax_function"
   ]
  },
  {
   "cell_type": "markdown",
   "metadata": {},
   "source": [
    "We can then directly opimize the following problem :\n",
    "\n",
    "<div style=\"font-size: 150%;\" align= \"center\"> \n",
    "\\begin{eqnarray*}\n",
    "    \\mathrm{minimize} &\\;\\;& || A \\sigma(x) -b ||^2 \\\\\n",
    "\\end{eqnarray*}\n",
    "</div>\n",
    "    \n",
    "with no constraints ! To do so, create a custom layer in keras that implements such a linear layer with a softmax transformation of the parameters."
   ]
  },
  {
   "cell_type": "code",
   "execution_count": null,
   "metadata": {},
   "outputs": [],
   "source": [
    "from keras.layers import Layer\n",
    "\n",
    "class SoftmaxDense(Layer):\n",
    "    def __init__(self, units=32):\n",
    "        super(SoftmaxDense, self).__init__()\n",
    "        self.units = units\n",
    "\n",
    "    def build(self, input_shape):  # Create the state of the layer (weights)\n",
    "        w_init = tf.random_normal_initializer()\n",
    "        self.w = tf.Variable(\n",
    "            initial_value=w_init(shape=(input_shape[-1], self.units), dtype=\"float32\"),\n",
    "            trainable=True,\n",
    "        )\n",
    "\n",
    "    def call(self, inputs):  # Defines the computation from inputs to outputs\n",
    "        softmax = tf.nn.softmax(self.w, axis=0)\n",
    "        return tf.matmul(inputs, softmax)\n",
    "\n",
    "    def get_weights(self):\n",
    "        w = self.w\n",
    "        output_weights = [tf.nn.softmax(w, axis=0)]\n",
    "        return output_weights"
   ]
  },
  {
   "cell_type": "code",
   "execution_count": null,
   "metadata": {},
   "outputs": [],
   "source": [
    "def linear_regression_model_with_softmax_as_cstr(input_dim):\n",
    "    \"\"\"\n",
    "    Input : \n",
    "    input_dim : int : Number of features of the linear regression\n",
    "    \n",
    "    Output : \n",
    "    model : tf.keras.Model : the keras Model object\n",
    "    regression_layer : tf.keras.layers.Layer : the keras Layer object \n",
    "                        that contains the linear regression coefficients\n",
    "                        \n",
    "    \"\"\"\n",
    "    #TOFILL\n",
    "\n",
    "    model = Sequential()\n",
    "    regression_layer = SoftmaxDense(1)\n",
    "    model.add(regression_layer)\n",
    "    model.compile(optimizer = 'rmsprop', loss = 'mean_squared_error', metrics = ['mse'])\n",
    "    \n",
    "    return model, regression_layer"
   ]
  },
  {
   "cell_type": "code",
   "execution_count": null,
   "metadata": {
    "scrolled": true
   },
   "outputs": [],
   "source": [
    "max_epochs = 5000\n",
    "batch_size = 10\n",
    "\n",
    "model, regression_layer = linear_regression_model_with_softmax_as_cstr(A.shape[1])\n",
    "model.fit(A,b, epochs=max_epochs, batch_size=batch_size)"
   ]
  },
  {
   "cell_type": "code",
   "execution_count": null,
   "metadata": {},
   "outputs": [],
   "source": [
    "from scipy.special import softmax\n",
    "softmax(model.get_weights()[0])"
   ]
  },
  {
   "cell_type": "code",
   "execution_count": null,
   "metadata": {},
   "outputs": [],
   "source": [
    "#Second solution with the embedding hack\n",
    "'''\n",
    "from keras import Model\n",
    "from keras import backend as K\n",
    "\n",
    "\n",
    "def linear_regression_model_with_softmax_as_cstr(input_dim):\n",
    "    \"\"\"\n",
    "    Input : \n",
    "    input_dim : int : Number of features of the linear regression\n",
    "    \n",
    "    Output : \n",
    "    model : tf.keras.Model : the keras Model object\n",
    "    regression_layer : tf.keras.layers.Layer : the keras Layer object \n",
    "                        that contains the linear regression coefficients\n",
    "                        \n",
    "    \"\"\"\n",
    "    #TOFILL\n",
    "    \n",
    "    #Features\n",
    "    a = Input(shape=(input_dim,), name = \"a_i\")\n",
    "    \n",
    "    #Parameters, the softmax enforces the constraints\n",
    "    #Trick to index only the first line of the embedding :\n",
    "    zero_constant = K.variable([0], name = \"zero_constant\", dtype = 'int32')\n",
    "    zero_index = Input(tensor=zero_constant, dtype='int32', name = 'zero_index')\n",
    "    x = Embedding(1, input_dim, name=\"x\")(zero_index)\n",
    "    \n",
    "    #Softmax layer\n",
    "    softmax_layer = Activation(\"softmax\")(x)\n",
    "    \n",
    "    #Dot product\n",
    "    y_hat = Dot(axes = -1)([a, softmax_layer])\n",
    "\n",
    "    model = Model(inputs=[a, zero_index], outputs=y_hat)\n",
    "    model.compile(loss='mse', optimizer='rmsprop', metrics=[\"mse\"])\n",
    "    \n",
    "    #TOKEEP\n",
    "    return model, x\n",
    "'''"
   ]
  },
  {
   "cell_type": "markdown",
   "metadata": {},
   "source": [
    "## [Optional] Implement projected gradient descent in pure numpy"
   ]
  },
  {
   "cell_type": "markdown",
   "metadata": {},
   "source": [
    "To get a better understanding of the projected gradient descent method, reimplement it yourself with numpy arrays only. Have a look at *Hands on Machine Learning ...* Chapter 4 if you forgot about gradient descent.\n",
    "\n",
    "First you need to write down the gradient w.r.t $x$ of the linear regression $\\nabla_x f_0(x)$. Once you have it you can code the gradient update step, and then project $x$ on the constraints set after each update."
   ]
  },
  {
   "cell_type": "code",
   "execution_count": null,
   "metadata": {},
   "outputs": [],
   "source": [
    "from numpy.random import normal\n",
    "\n",
    "x = normal(size = mineral_chemical_compositions.shape[1])\n",
    "\n",
    "gamma = 0.1\n",
    "nb_epochs = 1000\n",
    "\n",
    "for e in range(nb_epochs):\n",
    "    #TOFILL\n",
    "\n",
    "    # 1) x gradient update on the whole dataset :\n",
    "\n",
    "\n",
    "    # 2) Projection of x values on the constraints :\n"
   ]
  },
  {
   "cell_type": "code",
   "execution_count": null,
   "metadata": {},
   "outputs": [],
   "source": []
  },
  {
   "cell_type": "code",
   "execution_count": null,
   "metadata": {},
   "outputs": [],
   "source": []
  }
 ],
 "metadata": {
  "kernelspec": {
   "display_name": "Python 3 (ipykernel)",
   "language": "python",
   "name": "python3"
  },
  "language_info": {
   "codemirror_mode": {
    "name": "ipython",
    "version": 3
   },
   "file_extension": ".py",
   "mimetype": "text/x-python",
   "name": "python",
   "nbconvert_exporter": "python",
   "pygments_lexer": "ipython3",
   "version": "3.9.10"
  }
 },
 "nbformat": 4,
 "nbformat_minor": 2
}
